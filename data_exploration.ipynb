{
 "cells": [
  {
   "cell_type": "markdown",
   "id": "489ed08a",
   "metadata": {},
   "source": [
    "## Step 1: Setup"
   ]
  },
  {
   "cell_type": "code",
   "execution_count": 1,
   "id": "90581529",
   "metadata": {},
   "outputs": [],
   "source": [
    "import pandas as pd\n",
    "import numpy as np\n",
    "import matplotlib.pyplot as plt\n",
    "import seaborn as sns"
   ]
  },
  {
   "cell_type": "code",
   "execution_count": 3,
   "id": "581fe524",
   "metadata": {},
   "outputs": [
    {
     "data": {
      "text/html": [
       "<div>\n",
       "<style scoped>\n",
       "    .dataframe tbody tr th:only-of-type {\n",
       "        vertical-align: middle;\n",
       "    }\n",
       "\n",
       "    .dataframe tbody tr th {\n",
       "        vertical-align: top;\n",
       "    }\n",
       "\n",
       "    .dataframe thead th {\n",
       "        text-align: right;\n",
       "    }\n",
       "</style>\n",
       "<table border=\"1\" class=\"dataframe\">\n",
       "  <thead>\n",
       "    <tr style=\"text-align: right;\">\n",
       "      <th></th>\n",
       "      <th>Course No</th>\n",
       "      <th>Course Title</th>\n",
       "      <th>Course Description</th>\n",
       "      <th>Released Languages</th>\n",
       "      <th>Who This Course is For</th>\n",
       "    </tr>\n",
       "  </thead>\n",
       "  <tbody>\n",
       "    <tr>\n",
       "      <th>0</th>\n",
       "      <td>1</td>\n",
       "      <td>Course on Financial Freedom</td>\n",
       "      <td>Achieve financial freedom by creating a budget...</td>\n",
       "      <td>6,7,11,20,21,24</td>\n",
       "      <td>Individuals of all ages, from young adults jus...</td>\n",
       "    </tr>\n",
       "    <tr>\n",
       "      <th>1</th>\n",
       "      <td>2</td>\n",
       "      <td>Mutual Funds Course</td>\n",
       "      <td>Invest in mutual funds easily and reap the ben...</td>\n",
       "      <td>6,7,11,20,21,24</td>\n",
       "      <td>Beginner investors looking to learn about mutu...</td>\n",
       "    </tr>\n",
       "    <tr>\n",
       "      <th>2</th>\n",
       "      <td>3</td>\n",
       "      <td>Course on Credit Cards</td>\n",
       "      <td>Utilize the benefits of credit cards by obtain...</td>\n",
       "      <td>6,7,11,20,21,24</td>\n",
       "      <td>Adults who are new to credit cards and want to...</td>\n",
       "    </tr>\n",
       "    <tr>\n",
       "      <th>3</th>\n",
       "      <td>4</td>\n",
       "      <td>Course on Credit Score</td>\n",
       "      <td>Elevate your credit score, elevate your life w...</td>\n",
       "      <td>6,7,11,20,21,24</td>\n",
       "      <td>Individuals seeking to understand their credit...</td>\n",
       "    </tr>\n",
       "    <tr>\n",
       "      <th>4</th>\n",
       "      <td>5</td>\n",
       "      <td>Course on Stock Market</td>\n",
       "      <td>Transform yourself into a Savvy Stock Market I...</td>\n",
       "      <td>6,7,11,20,21,24</td>\n",
       "      <td>A beginner's guide to the stock market, this c...</td>\n",
       "    </tr>\n",
       "  </tbody>\n",
       "</table>\n",
       "</div>"
      ],
      "text/plain": [
       "   Course No                 Course Title  \\\n",
       "0          1  Course on Financial Freedom   \n",
       "1          2          Mutual Funds Course   \n",
       "2          3       Course on Credit Cards   \n",
       "3          4       Course on Credit Score   \n",
       "4          5       Course on Stock Market   \n",
       "\n",
       "                                  Course Description Released Languages  \\\n",
       "0  Achieve financial freedom by creating a budget...    6,7,11,20,21,24   \n",
       "1  Invest in mutual funds easily and reap the ben...    6,7,11,20,21,24   \n",
       "2  Utilize the benefits of credit cards by obtain...    6,7,11,20,21,24   \n",
       "3  Elevate your credit score, elevate your life w...    6,7,11,20,21,24   \n",
       "4  Transform yourself into a Savvy Stock Market I...    6,7,11,20,21,24   \n",
       "\n",
       "                              Who This Course is For  \n",
       "0  Individuals of all ages, from young adults jus...  \n",
       "1  Beginner investors looking to learn about mutu...  \n",
       "2  Adults who are new to credit cards and want to...  \n",
       "3  Individuals seeking to understand their credit...  \n",
       "4  A beginner's guide to the stock market, this c...  "
      ]
     },
     "execution_count": 3,
     "metadata": {},
     "output_type": "execute_result"
    }
   ],
   "source": [
    "# Load dataset\n",
    "df = pd.read_csv(\"data/bw_courses - Sheet1.csv\")\n",
    "\n",
    "# Display basic info\n",
    "df.head()"
   ]
  },
  {
   "cell_type": "markdown",
   "id": "ce0ea567",
   "metadata": {},
   "source": [
    "## Step 2: Dataset Overview"
   ]
  },
  {
   "cell_type": "code",
   "execution_count": 4,
   "id": "9fd9572b",
   "metadata": {},
   "outputs": [
    {
     "name": "stdout",
     "output_type": "stream",
     "text": [
      "Rows: 100\n",
      "Columns: 5\n"
     ]
    }
   ],
   "source": [
    "# Shape of dataset\n",
    "print(\"Rows:\", df.shape[0])\n",
    "print(\"Columns:\", df.shape[1])"
   ]
  },
  {
   "cell_type": "code",
   "execution_count": 5,
   "id": "4e14ea48",
   "metadata": {},
   "outputs": [
    {
     "name": "stdout",
     "output_type": "stream",
     "text": [
      "Columns: ['Course No', 'Course Title', 'Course Description', 'Released Languages', 'Who This Course is For']\n"
     ]
    }
   ],
   "source": [
    "# Column names\n",
    "print(\"Columns:\", df.columns.tolist())"
   ]
  },
  {
   "cell_type": "code",
   "execution_count": 6,
   "id": "88d4b363",
   "metadata": {},
   "outputs": [
    {
     "name": "stdout",
     "output_type": "stream",
     "text": [
      "<class 'pandas.core.frame.DataFrame'>\n",
      "RangeIndex: 100 entries, 0 to 99\n",
      "Data columns (total 5 columns):\n",
      " #   Column                  Non-Null Count  Dtype \n",
      "---  ------                  --------------  ----- \n",
      " 0   Course No               100 non-null    int64 \n",
      " 1   Course Title            100 non-null    object\n",
      " 2   Course Description      100 non-null    object\n",
      " 3   Released Languages      100 non-null    object\n",
      " 4   Who This Course is For  98 non-null     object\n",
      "dtypes: int64(1), object(4)\n",
      "memory usage: 4.0+ KB\n"
     ]
    }
   ],
   "source": [
    "# Data types & nulls\n",
    "df.info()"
   ]
  },
  {
   "cell_type": "code",
   "execution_count": 7,
   "id": "546aa990",
   "metadata": {},
   "outputs": [
    {
     "data": {
      "text/plain": [
       "Course No                 0\n",
       "Course Title              0\n",
       "Course Description        0\n",
       "Released Languages        0\n",
       "Who This Course is For    2\n",
       "dtype: int64"
      ]
     },
     "execution_count": 7,
     "metadata": {},
     "output_type": "execute_result"
    }
   ],
   "source": [
    "# Missing values count\n",
    "df.isnull().sum()"
   ]
  },
  {
   "cell_type": "code",
   "execution_count": 9,
   "id": "1290ccf2",
   "metadata": {},
   "outputs": [
    {
     "data": {
      "text/html": [
       "<div>\n",
       "<style scoped>\n",
       "    .dataframe tbody tr th:only-of-type {\n",
       "        vertical-align: middle;\n",
       "    }\n",
       "\n",
       "    .dataframe tbody tr th {\n",
       "        vertical-align: top;\n",
       "    }\n",
       "\n",
       "    .dataframe thead th {\n",
       "        text-align: right;\n",
       "    }\n",
       "</style>\n",
       "<table border=\"1\" class=\"dataframe\">\n",
       "  <thead>\n",
       "    <tr style=\"text-align: right;\">\n",
       "      <th></th>\n",
       "      <th>Course No</th>\n",
       "      <th>Course Title</th>\n",
       "      <th>Course Description</th>\n",
       "      <th>Released Languages</th>\n",
       "      <th>Who This Course is For</th>\n",
       "    </tr>\n",
       "  </thead>\n",
       "  <tbody>\n",
       "    <tr>\n",
       "      <th>67</th>\n",
       "      <td>68</td>\n",
       "      <td>Course on Learning Yoga from Home</td>\n",
       "      <td>Transform your mind, body, and soul with the b...</td>\n",
       "      <td>24</td>\n",
       "      <td>NaN</td>\n",
       "    </tr>\n",
       "    <tr>\n",
       "      <th>83</th>\n",
       "      <td>84</td>\n",
       "      <td>Pomegranate Farming Course</td>\n",
       "      <td>Earn Substantial Income Per Acre With Pomegran...</td>\n",
       "      <td>21</td>\n",
       "      <td>NaN</td>\n",
       "    </tr>\n",
       "  </tbody>\n",
       "</table>\n",
       "</div>"
      ],
      "text/plain": [
       "    Course No                       Course Title  \\\n",
       "67         68  Course on Learning Yoga from Home   \n",
       "83         84         Pomegranate Farming Course   \n",
       "\n",
       "                                   Course Description Released Languages  \\\n",
       "67  Transform your mind, body, and soul with the b...                 24   \n",
       "83  Earn Substantial Income Per Acre With Pomegran...                 21   \n",
       "\n",
       "   Who This Course is For  \n",
       "67                    NaN  \n",
       "83                    NaN  "
      ]
     },
     "execution_count": 9,
     "metadata": {},
     "output_type": "execute_result"
    }
   ],
   "source": [
    "# Locate rows with missing values in \"Who This Course is For\"\n",
    "missing_rows = df[df['Who This Course is For'].isnull()]\n",
    "\n",
    "# Display them\n",
    "missing_rows"
   ]
  },
  {
   "cell_type": "markdown",
   "id": "92c7fdc0",
   "metadata": {},
   "source": [
    "Only Who This Course is For has 2 missing values. The best practice is to fill with \"Not specified\" instead of dropping (so we can avoid losing course data)."
   ]
  },
  {
   "cell_type": "code",
   "execution_count": 10,
   "id": "87b3a4e4",
   "metadata": {},
   "outputs": [],
   "source": [
    "df['Who This Course is For'] = df['Who This Course is For'].fillna(\"Not specified\")"
   ]
  },
  {
   "cell_type": "code",
   "execution_count": 12,
   "id": "6707dadb",
   "metadata": {},
   "outputs": [
    {
     "data": {
      "text/html": [
       "<div>\n",
       "<style scoped>\n",
       "    .dataframe tbody tr th:only-of-type {\n",
       "        vertical-align: middle;\n",
       "    }\n",
       "\n",
       "    .dataframe tbody tr th {\n",
       "        vertical-align: top;\n",
       "    }\n",
       "\n",
       "    .dataframe thead th {\n",
       "        text-align: right;\n",
       "    }\n",
       "</style>\n",
       "<table border=\"1\" class=\"dataframe\">\n",
       "  <thead>\n",
       "    <tr style=\"text-align: right;\">\n",
       "      <th></th>\n",
       "      <th>Course No</th>\n",
       "      <th>Course Title</th>\n",
       "      <th>Course Description</th>\n",
       "      <th>Released Languages</th>\n",
       "      <th>Who This Course is For</th>\n",
       "    </tr>\n",
       "  </thead>\n",
       "  <tbody>\n",
       "    <tr>\n",
       "      <th>67</th>\n",
       "      <td>68</td>\n",
       "      <td>Course on Learning Yoga from Home</td>\n",
       "      <td>Transform your mind, body, and soul with the b...</td>\n",
       "      <td>24</td>\n",
       "      <td>Not specified</td>\n",
       "    </tr>\n",
       "    <tr>\n",
       "      <th>83</th>\n",
       "      <td>84</td>\n",
       "      <td>Pomegranate Farming Course</td>\n",
       "      <td>Earn Substantial Income Per Acre With Pomegran...</td>\n",
       "      <td>21</td>\n",
       "      <td>Not specified</td>\n",
       "    </tr>\n",
       "  </tbody>\n",
       "</table>\n",
       "</div>"
      ],
      "text/plain": [
       "    Course No                       Course Title  \\\n",
       "67         68  Course on Learning Yoga from Home   \n",
       "83         84         Pomegranate Farming Course   \n",
       "\n",
       "                                   Course Description Released Languages  \\\n",
       "67  Transform your mind, body, and soul with the b...                 24   \n",
       "83  Earn Substantial Income Per Acre With Pomegran...                 21   \n",
       "\n",
       "   Who This Course is For  \n",
       "67          Not specified  \n",
       "83          Not specified  "
      ]
     },
     "execution_count": 12,
     "metadata": {},
     "output_type": "execute_result"
    }
   ],
   "source": [
    "# Display only the 2 rows where missing values existed before\n",
    "fixed_rows = df[df['Who This Course is For'] == \"Not specified\"]\n",
    "\n",
    "fixed_rows"
   ]
  },
  {
   "cell_type": "markdown",
   "id": "ee0c8a60",
   "metadata": {},
   "source": [
    "## Step 3: Uniqueness & duplicates"
   ]
  },
  {
   "cell_type": "code",
   "execution_count": 8,
   "id": "65ff1983",
   "metadata": {},
   "outputs": [
    {
     "name": "stdout",
     "output_type": "stream",
     "text": [
      "Duplicates: 0\n"
     ]
    },
    {
     "data": {
      "text/plain": [
       "Course No                 100\n",
       "Course Title              100\n",
       "Course Description        100\n",
       "Released Languages         16\n",
       "Who This Course is For     98\n",
       "dtype: int64"
      ]
     },
     "execution_count": 8,
     "metadata": {},
     "output_type": "execute_result"
    }
   ],
   "source": [
    "# Check duplicates\n",
    "print(\"Duplicates:\", df.duplicated().sum())\n",
    "\n",
    "# Unique counts\n",
    "df.nunique()"
   ]
  },
  {
   "cell_type": "code",
   "execution_count": null,
   "id": "184b19b2",
   "metadata": {},
   "outputs": [],
   "source": []
  }
 ],
 "metadata": {
  "kernelspec": {
   "display_name": "Python 3",
   "language": "python",
   "name": "python3"
  },
  "language_info": {
   "codemirror_mode": {
    "name": "ipython",
    "version": 3
   },
   "file_extension": ".py",
   "mimetype": "text/x-python",
   "name": "python",
   "nbconvert_exporter": "python",
   "pygments_lexer": "ipython3",
   "version": "3.12.2"
  }
 },
 "nbformat": 4,
 "nbformat_minor": 5
}
